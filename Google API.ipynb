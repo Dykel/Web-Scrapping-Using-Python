{
 "cells": [
  {
   "cell_type": "markdown",
   "metadata": {},
   "source": [
    "# Using Google API"
   ]
  },
  {
   "cell_type": "code",
   "execution_count": 12,
   "metadata": {},
   "outputs": [],
   "source": [
    "import os"
   ]
  },
  {
   "cell_type": "code",
   "execution_count": 15,
   "metadata": {},
   "outputs": [
    {
     "data": {
      "text/plain": [
       "'C:\\\\Users\\\\Manoj\\\\Desktop\\\\dir'"
      ]
     },
     "execution_count": 15,
     "metadata": {},
     "output_type": "execute_result"
    }
   ],
   "source": [
    "os.getcwd() #properties file should be placed in your working dir"
   ]
  },
  {
   "cell_type": "markdown",
   "metadata": {},
   "source": [
    "## Install and import googlemaps "
   ]
  },
  {
   "cell_type": "code",
   "execution_count": null,
   "metadata": {},
   "outputs": [],
   "source": [
    "pip install googlemaps "
   ]
  },
  {
   "cell_type": "code",
   "execution_count": 13,
   "metadata": {},
   "outputs": [],
   "source": [
    "import googlemaps"
   ]
  },
  {
   "cell_type": "markdown",
   "metadata": {},
   "source": [
    "## Import configparser to read properties file and extract API key"
   ]
  },
  {
   "cell_type": "code",
   "execution_count": 16,
   "metadata": {},
   "outputs": [
    {
     "name": "stdout",
     "output_type": "stream",
     "text": [
      "['twitter']\n"
     ]
    }
   ],
   "source": [
    "import configparser\n",
    "config = configparser.RawConfigParser()\n",
    "config.read(filenames = 'twitter.properties')\n",
    "print(config.sections())"
   ]
  },
  {
   "cell_type": "code",
   "execution_count": 17,
   "metadata": {},
   "outputs": [],
   "source": [
    "apikey = config.get('twitter','google')"
   ]
  },
  {
   "cell_type": "markdown",
   "metadata": {},
   "source": [
    "## Using Google's Direction API to find directions between two places"
   ]
  },
  {
   "cell_type": "code",
   "execution_count": 18,
   "metadata": {},
   "outputs": [],
   "source": [
    "gm = googlemaps.Client(key = apikey)"
   ]
  },
  {
   "cell_type": "code",
   "execution_count": 19,
   "metadata": {},
   "outputs": [],
   "source": [
    "from datetime import datetime\n",
    "now = datetime.now()\n",
    "directions_result = gm.directions(\"London\",\n",
    "                                     \"Paris\",\n",
    "                                     mode=\"transit\",\n",
    "                                     departure_time=now)"
   ]
  },
  {
   "cell_type": "code",
   "execution_count": 20,
   "metadata": {},
   "outputs": [
    {
     "data": {
      "text/plain": [
       "[{'bounds': {'northeast': {'lat': 51.5488769, 'lng': 2.525978},\n",
       "   'southwest': {'lat': 48.8809481, 'lng': -0.1288158}},\n",
       "  'copyrights': 'Map data ©2020 Google',\n",
       "  'legs': [{'arrival_time': {'text': '1:47pm',\n",
       "     'time_zone': 'Europe/Paris',\n",
       "     'value': 1589888820},\n",
       "    'departure_time': {'text': '10:24am',\n",
       "     'time_zone': 'Europe/London',\n",
       "     'value': 1589880240},\n",
       "    'distance': {'text': '451 km', 'value': 450761},\n",
       "    'duration': {'text': '2 hours 23 mins', 'value': 8580},\n",
       "    'end_address': 'Paris, France',\n",
       "    'end_location': {'lat': 48.8809481, 'lng': 2.3553137},\n",
       "    'start_address': 'London, UK',\n",
       "    'start_location': {'lat': 51.531971, 'lng': -0.12663},\n",
       "    'steps': [{'distance': {'text': '451 km', 'value': 450761},\n",
       "      'duration': {'text': '2 hours 23 mins', 'value': 8580},\n",
       "      'end_location': {'lat': 48.8809481, 'lng': 2.3553137},\n",
       "      'html_instructions': 'Train towards Paris Nord',\n",
       "      'polyline': {'points': 'yyoyHlvW}IvHKFIFc@Zs@h@UNUPg@XC@m@T]H_@Fa@@a@BO?OAu@@sAAo@@o@Ey@ES@S@WAYCUCUEAASGWISKUKQOQMIIGEOQEEMOQWQYOWMYCCOc@Oc@K]Mc@?AIc@COEUMw@E]Ii@Ii@EUEOIc@AAKc@Kc@I[K]KYGMSk@Wo@g@qA_@eAUq@GMOk@Qg@Og@Ma@_@sAq@eCeAyFmAeH[cBqBmLOy@}AoJW{AsAoIYiBaAkGu@wE]gBMs@iAgGOs@?Ai@_EeAcHYkBW_BCSEUs@yE]wBa@wCMu@uCiSGa@I_@cBiOe@gFm@iUGwCAaFFgGdAo[\\\\_Kb@gKd@cN`@qKFqBdAkZj@mOTuF?OBy@\\\\uKPoIHcIBmM?wACiNBaP@eM?M@iOAqK?oM?yBFkLN}IXuKNeCJqBLqBDw@JeBB[@[LgB?Ib@_FNoBPqB@OL_BHw@Fw@Fw@Di@HgADw@NqBTiDHoAFyANkDLyCJ}DNkF?s@JmJDgID{GAQ?iEAqFA]@sF@M@mC@}D?Y?yA?_B@mA?y@BwF?i@B}C?mA@iA?aDBwA?OBwA@i@@wABkC?a@CcGB}A@}B?yA?o@D_CFoCBsA@y@@c@?sDI{DAq@?GGgDU}ICq@?Ga@uHc@oJg@gIy@aJSyBqCyW_CwWEmAEy@a@gK]wM]gXq@kWa@}PSyJ@{GBcF?w@?AFoDDcDFuAFsAFuATuG^aHNuCHmAD_@~CkZzB{W`Ek_@~Fqa@tAcIhBqHtEyOdJkUTk@tDkJdHgQbG}MzCyHvCcI~BqHfB{HbEwPxCaQdCsUxCc`@~B_`@x@uNDy@jD{m@nAsSvAwUxAaZl@eM@c@FoA?CHmB?CHaBHaBHsADo@LaCJkBBUNsCDw@FiAJaBJqBRiDDw@Dy@LqB?EDq@LqBDy@?KP}CFw@Bo@FaAXwFZ}G\\\\qHXcFHmB^kGPwCDo@VeF`@}G^aHJiBTsDXoFb@}H@C^gH`@oGb@oGReCTyCFo@h@kGLkA`@oEt@cH@Ip@wFr@aFh@iDDYlA}Gp@_DP{@dAmELg@fAiEPo@\\\\gAHYz@oCx@cCbAsC@GRe@j@{AL_@FMh@kAJUPe@FMn@uAlAeC~A_Dp@qAf@cALWfAsB`B}C`CmEP]FMTc@Vc@n@oANYn@kA^q@^s@v@}AbAkBh@cAnAaCb@u@r@qA^s@Te@h@aA^u@`@y@p@sAf@cAx@_Bn@qAjAaCXo@p@uATc@~@qB|@mBzCuGPa@z@kBh@iAj@iAt@cBXk@n@uA~@qBFMh@kADIdA{BtAwC|@mBHS`@}@j@mAFMP_@\\\\s@^u@f@kA|@mB\\\\u@dAyBfA_C`@{@Tg@n@sABGfAuBVg@Xi@h@gAFKVg@P[FMXg@Xg@Ra@~AyCtAiCrAcCP_@^s@pAoC\\\\s@Xq@d@gAf@cA~@{BFOj@oAp@_Bb@gAh@qAhAoCx@wBTk@FOn@_B^cAj@{An@}AZw@d@kAbAaCv@iBRe@|BuF\\\\}@d@gAL[n@}A`A_CVm@tByEHS|@iBRc@JUJSNWfC}EdCgEnAuBhByCv@oAXe@Xe@v@mAlAqBT]lBgDXg@r@oAFMBGxAsCl@qAl@kAlF}LLYtAmDjAcDZ{@b@oATo@Tq@x@kC@EHUp@yBdAiDDQ`A_Dr@aCL_@`AwCdAyCtAuDfAoCzAeDRc@hAgClA}BRa@HOJSp@qA^u@P]dDoGrAkCjA}BZm@Tc@p@qAf@cAp@oA?AXi@Te@JStAkCP_@R]JSJSP]DKJQjA{BN[NYbAqBd@{@JUR_@P_@JQd@_AXi@P[^u@p@sANYrAiCHQf@aAbAoBjBsDfA_Cn@uAn@uAxAsDhBuEDKfBcFnAeEJYpCqKFSvCyMhDkTrBqM|AiKDQ|CaPdCcKZkAPq@rBuHv@aCnBcGrEgLtKuS`HyM|LaQXa@Xc@vAwBZc@v@iAt@gAv@iArAkBfA_Bf@o@r@iATc@^g@pAgB`AuAp@{@LOx@eAvAmBtAyAz@_At@u@FG\\\\[~@w@ZWBCzAuAVU|AuAf@c@fCoBB?zDcCNKp@[z@c@DC|@a@HEVK`@ObAa@p@WlAa@JCDCpBm@t@QdAW`AUhAYfAWz@SnA[b@KfBc@PE~Bg@xCo@`AUj@KdCi@dCi@~A_@zA_@|Bq@hBk@pBu@~@a@bAc@f@UlBaAPMzBqAh@]~@o@`Ao@`Ao@XS@AHGh@]LIROp@i@d@c@POxA}ADEtAuAZ]z@cAX]t@y@j@q@r@}@|@kAjAeB\\\\g@Zc@d@s@jAiBx@wAdAqBNYr@sAVg@h@eAFMdA}BBEPe@Xs@t@gB@Cn@{APe@@Gf@uA`@gAr@wBTu@l@kBLe@p@{Bv@wCJc@b@mBb@iBd@sBr@qDf@_Cj@qCVkAn@eDNs@Ls@@I~@oEfBwI~@yEd@}B|@mEjBiJbAeFzAmHDS^gBd@wBHc@TeALq@Lq@Hc@RcA\\\\gBt@uDx@aETyAJe@XaBHg@P_ALq@f@qCb@wBXyAb@uBl@{C`@qBnAgG`AaFv@wDx@_EfAqFFYr@iDdAiF@KViAF]Ns@l@{CNs@H_@d@{BLs@^eBj@kCBOj@cCj@cCFYZyAtAwGjA}Ff@kCvAeHTeAv@}DDQ|@oEl@{C~@qEnAkG`BoIRgArAeHf@uCN_Ax@cFNaAv@qFNeAn@_FZcCXmCNkAXqCP_B@MJeA`@oEHw@Fm@HiAbAoNF{@FaAHmAL{BRyDBm@JqC@MNoE@g@DkAFqBBy@D{@@g@DqBHcD?GByA?Y@}@DaB@{A@g@JuIBaCFaDB_BDmDHwDJqDDcARoG^gILaCLgCZcFViDLwARuBFo@RyBFu@BSVqCHo@?EToB^cDBSPyA\\\\sClAwIViBPkApBkLfAyFJe@^eB|@eER{@`@eBNq@Ps@VgAH]Po@fAgEXeAJ[d@aBbAiDHWf@_BlA{D@CrA{Db@oAdAwCf@sAp@_Bj@yAz@wBjCaG`CgFTc@nCoFhAuBhB}CpDaGnDoFhAcBbCaD@AZ_@`DcEf@k@|@aAtB}BVYHIfAiANMNOn@q@hAgAzAyA`@c@xAsArAoAtBmBNONMPQRQXUz@w@@AXUx@u@f@c@^[POVU@?^]NOLKNMNMJKRONMNM|AoADCtBeBBClBgBjAcA`@_@z@u@l@i@l@m@^_@\\\\]PQJK|@y@\\\\]ZYrBoBJITUFGNOLOh@k@PQ^[\\\\]d@c@zAsAXYZ[@ATUHKRQHKv@s@XYNOFGBCp@o@LOr@o@TU^[d@e@VUXYVUHK^]h@e@RS|@{@z@y@NMjAgApAoA`A_AhAeA`B_Bp@q@NMr@u@RQn@k@p@o@XWb@a@v@q@RSb@a@ZYh@g@b@_@LMNOFELMZ]`@e@h@k@RSJMj@e@fBgB\\\\[TUFG^]ZY`@]DChBeBd@a@z@k@j@g@\\\\[h@g@^]VUr@k@PO`A{@bCoBjA_AlAaAHIl@i@zAoAzAqA|AqAXWv@q@ZY^]Z[FEZ[h@e@VUROfBwAXUf@_@\\\\WPMPOVQh@_@lAu@p@c@RMFEPMRO@Ad@[v@m@xAeARORMd@]p@k@j@e@hBkA^URMp@[vAq@b@QhBw@^O^Qj@S~Ai@`A_@TIrAe@hA]ZM~A?hEqAvF{AnD{@jCm@fIoAtH}@v@Kb@GnEi@rI_ApGgA|Ew@hE{@LClFqAvD{@|Bq@lCu@lEuAlDoAz@YlEeBvF_CdAc@vDgB~DsBZQxC_BhDqBnEqCNK`BkALK^Yn@g@BCNKz@o@rAcA@?zAmAxAmAfByArAmAv@q@|AyA|ByBpAsA|A}An@m@f@i@jBwBDEjBwBbC}CxBqCfCmDfCqDzBiD~BuDpBeDt@oA~B_ElA}Bb@y@`AiBp@qAfAsBBEp@{AjAeC~@sBz@gB^u@hAgCpA}C|@wBv@mB^aA\\\\}@pAkD~AyDz@cCXu@`AyC`AuCd@aBRm@x@qCFUvA}EPq@xAqF@CvA{F@E`BeHtAmGpAiGz@aE`AoE~@kElAwFfAcF|AgHjAyFR}@~AoHLm@^eBj@oCBINs@^gB^cB^iBNq@b@sBlAsFNs@BM|AkHLm@Ns@n@yCHYfAeFJk@r@aDb@wBdBaIpAaGpBuIl@eCj@{B^uALg@Po@r@qCh@gBx@uChAyDrA_ErA_Ef@wATm@X{@N_@x@{BRi@@CtAgDL]FMTk@l@yAr@_BnBmEbCeFrBiEhCkFnAgCVi@Zo@~AaDVi@\\\\q@|A}CLYLWhCkFJUXi@tAqChCoFjB{DrBoELWVk@hAeCbA{Bb@_ArAuCZs@rBoEpBkEBGVk@n@uAn@uAPc@DIb@}@Vk@~@qBlAoCVk@FONYXi@N[FMVk@Vi@BGZs@hAeCnFmLN[lGeNzCwGJSdAaCVk@|AmDlCcGlBeEz@wBb@oATm@jDsJlBcFn@eBx@aCtAyDxAgEj@aBh@}ApCeIb@qAvBiFxAsDN]t@cB~BkF~CwG`AsB^s@lGeM@AdBeDnAcCPa@hDiHjCqFDKj@yAVk@xAqDTm@t@eBL_@j@{AL_@Na@Zy@Tm@z@_ChEkNTu@hA{DzAkFRy@vCwLbCiLvC_NtBkKNo@nAeGl@yCDQHa@Ns@Ns@l@{CNq@Ns@He@DMNs@Ls@n@yCNs@Nq@`@gBhDkOZuAdBqHFUxBiId@wAfBkFJ]zAmEnDiK`@eAdE{K|BsGrCeIt@sBhCkI`DcKlEcQLk@Ls@l@{ClAaGhBkJJi@bB_INs@n@yC|@mENs@Nq@FYXkAn@{CTiAH[^gBZ_B`@eB\\\\aB@Cb@aBhAeEz@cDLa@f@_BPo@J[vBcHl@oBrBkGrAqDHSt@kB`BkEBCjBuEzBmFj@mA|@uB|DkJn@yAtBcFj@oAfEoJb@aApB}E|FeN`DwHh@wARg@hDsJ|@qCpA}Dj@cBjAyDX}@hAoDd@yAd@{ABGx@{Cn@yBf@gBrE{NlDcL`EkMpC_JfAgDlBeG`CwHRm@z@oCRo@Rq@tAmEj@gB\\\\cALa@d@{ATu@Z}@b@wAb@uAX_Ad@wA@Ef@}A`A}Cb@yAb@qAp@yBl@mBDKn@oBb@qAPi@Ri@Ne@Pe@Tm@Pi@@ARm@Tm@Tq@Le@X{@t@_C^iAb@yA@C^iAZcADM`@mAZcA^kANe@d@{Ad@yAh@eBn@oBVy@\\\\iAZaADMd@yAb@uAFQ`@sAd@yAb@yAb@wAd@}AXcA^qAb@cBV_AH_@l@cCd@kB^aB^eBVkA@IP{@\\\\_BVuAReAHi@h@sC`AmGh@sDR_BLaAJw@Hq@XiCNuAPyAZ_DX_DRoCDg@HgANoBB_@@_@F_ADo@@WB_@D_ADq@Dw@Bc@FsAHyBHaCFmBF_CFcC@w@BuADwBDcDBiA@mABsA@y@Bu@?Y@c@BuABaADmBBw@FyBDgABcA@KBy@Bw@@OFeBLqBDw@Dy@Fw@Dw@L_BBYFw@Dw@JiA^cEZgDf@yEb@iD`@gDJs@RqA^cCRkA\\\\wB`@yB@GJk@Z}Ad@gC^eBXqAH[j@oCJ_@l@}Br@kCJ]n@cCt@kCHUd@_BTo@BEVu@f@{Ar@mBRk@~@eCv@mBt@kB\\\\u@@E`AwBl@uAZm@Ti@n@mAp@sAn@mAd@{@b@w@d@w@f@}@t@oA|@wADGvAwB`AuA`@i@v@gAdAuAhAsAh@s@f@k@dAiAt@{@h@k@j@m@DCj@m@l@m@|@y@FEn@k@DG^[LKLK`@_@ZW~@u@NMrAeAfBoAtBwADCxCiBDCpBiApDiBrEwB`@UrCsAxAq@rBaAt@]fCkAVO|DkBv@_@hB{@lDcBx@_@tAo@NKdDcB@?`@UjC}Ax@i@`BgARMJI^Y`@WdAy@TQTQr@k@v@q@~@w@zBsB@AlBiBf@i@jAmArB}BPSvBiCnBeCHKLQpC{DXa@tAyB|BuDdCeE@AVe@hBiDRa@Xg@vAkC`B}CN[n@uAnAkCh@eAn@sABEj@eAfCcFtCwFbAqBpAeCpGgM|@mBlAiC@C~@oB`AuBb@cAN[t@eBZq@Xu@t@qBp@qBLa@ZcAf@aBb@}AJ]ZkAZaARo@Rm@j@{ADMj@mB^oAhBcGf@{A`AeCHUdBiEVk@xAsDTk@Tk@dAgCJYLY`AeCBEh@sATk@Vk@xAqDzAwDp@_Bt@mBzAqDt@oBj@uAn@eBv@uBn@gBzAcEXw@Xs@d@kA@Cd@gAf@oAh@qAd@kATi@FQBGVk@f@mA@Gd@kAn@{Ad@iAJWXs@Re@Xs@Pe@^_Ab@cAL[HQf@sAXq@Zu@Pc@d@iAl@{Ap@eBbCcGBGpAaDhAwCDKd@mATm@N]r@gBPc@BITk@Xu@d@sAv@sBHSf@mAbAgCrAaDJYVk@f@oAfAmC@ATi@d@eAFOz@oB`@aAbAaCjAiC~@{B\\\\y@tB_FLYXs@~AyDpAaDj@yALWbAeCdAkChKaWTk@l@wAt@kBN]FODKbAeCFMd@iA|A{DdAiC`C}Fd@kAhAqCtBgFhBsE|AsDJW`@_Ax@sBbAeCVk@Tk@bAeCj@{ATk@j@{ARi@bBoEHW`DeJ|BkHNe@v@iClAeE`AmDdAeEt@wCt@_Df@uBb@oBRy@VqAj@kCVmA^kBl@gDJe@ZeB^yBt@oEz@oFZ{B\\\\{Bt@qFJaA\\\\kCLmAf@kEV{BHo@NuAX_DXcD`@aFZeE\\\\}EPwBRqCf@oGb@{F@Wf@{Gl@wHd@qG@Kd@kGDk@P{BPyB@ODg@HmANoBDg@@ONoBVaDf@{Gb@aGf@yGr@iJd@gGX}D\\\\qEFu@j@cId@gGh@eH`@mFNeBF_AFw@^_FHkAh@sHv@iK^cFXsDl@}HJoABc@x@gKp@qIDs@NmBr@cJTsCXoDHcA?G@ADu@NoBNoBx@eKFw@|@sLp@mIZqD\\\\yD`A{K~@}J~@oK`AuK|@{Jr@wHT_C|@cK`AqKfCoXFw@X}CRwB|@uJHcAbBiRFo@rBqU@EX_DZeD@KD_@@IHw@ZeDPkBpAuNLyAJkAVgDRmBRmBDe@XeDPmBXiDr@wJJkB@QLuBBs@PiEDqA@ILkIBsA@wDDiJ?uB@cC?cC@qBB}DDwK@_C?kAB}D@e@@_CBeB@mAB}A@y@DiD@yAH_F?[DoDBuEBkFAcCCyCK_JAu@EqBC}A?SCw@CoBC{@EqBA_@CqACqBAi@CgAEqBAe@CmACmCEaBAy@Aw@A[CaACmAAq@?GAw@Cy@CyACiCCyACqAEeDEaEEsDCqCAaAGgFEiD?m@EiCEeDEwCGkCG{CEoBImCKuCKsCI_BEmAGmACg@GgAGeBAUIoBEy@IsBIiBG_AA[ImACa@GoAOaCQwBEu@UqCKoAGu@YgDAM_@qEM}Am@oHUmCC_@QqB[yDOiBa@sEa@eFIaAIcAKkAOgBC]KgAY}DYiES}DUmEG_BUoEKuB?MKgBIqBIqAGmA?IQsDMqCK_CIyAQkDOgDGqAQmDQuDGiAMiCMeCG_BS_ES}DEw@Cy@MsCScEOkDAWK{BMwBCe@EmAC[AUyB{h@{B}h@[qGc@oH[qESmDm@}HmAkPoAeOm@cGi@sFw@cHw@mG]wCq@wEw@uFkA}GkBkMaBcJCSMu@uBwLsEeXyAeIsBcMaAqFcDqRmB{LkFoZ{@wFsAiIm@wDw@{Ew@qFi@aEe@yDo@iFs@eGk@gFi@eG_@cEm@uG_@aF]oF_@}E[yF]oGYyGSyDUkGKmEMuEKyFG_BKoGIcIEuJ?aIBaIDqHF}FNgHFeEH_EHcDJyCJ{CHuBFsBNeE^mH^oGPqDh@eIp@mI|@iLdA{JjAuJnAuKdAsIzAeMp@gFTsBVsBzBiPnA{JnC}SvAeKt@uGlB{M|AkLjAyHf@mCb@kClB{Jl@yC`CiKlDeNpEiQlEqPbHyX`Qsr@|BuInFwS`l@stBxbDmbIbvFyeNti@ygBxm@qgCxm@qgCjtBycJntBocJnyBq_KvyBg_KhBcIbAwF~A{FlAsGPo@dAgEd@cB`@aBp@_C~@}Cf@{AL]b@sABI^cA~AiEDIvBqF`A{BxA{DPe@`AcCh@qAr@iBXs@d@gABIRe@n@aBL[Zs@j@wAL[v@oBv@cBHOdA{Bn@eAFMz@wA~@cBbA_Bx@mAd@s@hAgBr@aAR[l@aANSn@aA\\\\q@d@{@x@oAf@m@f@m@|@cAn@k@ZYdCyAn@c@PKlDsBXO`@W`@W|Aw@VMbB_Az@e@dEcCjC}AlC}ApEmCfFwCl@_@fEeCzEsCdCuAx@a@t@[BC^M^Id@Kb@IdAAdACdAEbACxBJ|Ev@RDb@HdB\\\\hAVb@H`@JH@XFdATvAXt@NJBJBVDhATb@Hb@H`@Jb@Hb@J`@H\\\\HjATb@HZDF@dAT~@PlAVdATXFrB`@j@LtDt@TDxCn@~Bd@ZFjDt@JB|Cj@~Cn@ZHrCp@RDbC|@vBjAXNrBxAnBjBrB|B\\\\d@v@hAHJrBlDDFVh@Vh@BD`A~BbAlCr@dCPt@f@pBZtALh@P`ARrAN`A\\\\dCLrAPpBJ~ADv@Dv@?@Dn@B|@BxABfB?lA@`ACxBAv@Aj@Cl@A^GfAGtAIpB]bGAPUnFAZCv@CtAClC@fA@tAB|ANzCFz@RzBDb@NtAR~AJd@ZhBHh@P|@DLJd@f@`B?@h@|ARl@Rj@x@pBz@bBp@fABFZb@z@nAX`@~@bAz@x@vAhA`@V~@n@B@\\\\PPJNFbAb@B@LFJB|@X@?~@Tj@Hj@FV@fAFF@~@@J?bACfBK^IdAQBA^K~@W`CcAzA}@POz@o@lAeAn@u@f@i@x@eALO^k@RYn@qAv@_BVi@j@{Ad@oAz@qC`@oBn@yCPw@Jm@FUDUFWToANq@Ns@f@oCb@qBNs@v@sDx@}DHg@Py@bAeFFUjA_GF[r@sD@CLo@Nq@@Gf@cCBMFUTiAPy@RcAHa@TeAFW\\\\eBj@sCh@iCj@sCJg@|@oEx@yDRcAN}@z@aE~@mEDSl@}CVkATaAZqAlA_E@ChAuCf@eAVg@Xk@`@o@`@o@LOPWd@m@BA~@gARUXYLQd@a@`@c@PMNI`B{@hBy@vA_@`@IfASr@MxAMTCtA@|@?hAFt@Jf@F^F^JVFr@Vv@V^RB@TJx@b@vA~@x@p@LJxAzAzAlBHJt@jARZhArBFNJVn@`Bh@tARl@FRf@fBd@rBVnARx@Jj@\\\\tBJf@H^BP@@N~@VjAHd@F\\\\VlAVhALj@j@zB`@vAl@jBl@hBh@|AZv@BHj@vARb@P`@j@jAHPJTtAlC@@hAvB@@`AtAtBvCd@l@n@t@|B~BjAdAvAjA@?`CfBvBpA^Tn@X~@h@lBfAfBfAdBpAlAjAfAhAdBxBdAzA`@p@V`@lAbCl@rARf@p@zArBvEp@pAlArBVb@t@bAr@`ApBtBPNfB~ArC~B\\\\X|CfC|ApA~@t@~@v@|@v@PNhAbA~@v@`BvAvCjDfAbBV`@dAjB`AtBdAlCHRv@zBh@pBNh@`@xABNRv@R`ARjA`@jCHj@Jt@L~@Hj@Jr@Jt@Jt@BNTxAVjB?@XfBh@|CfA|F@Dh@pBt@xB?@Tl@Tj@l@vAHNpB|D`AjBtAfCh@bArAdCTl@rBhFb@pADL^rATx@tAlHfAbGH^|BnNj@tDF\\\\nAzHzAlJ@BpCdQDRz@rF\\\\tBr@fEZnBJl@z@nFDXp@vDZhBDRFX@F\\\\hCLlAD^TlCHrAFjAFjAJjCF|CBbF?RCpBIbDKnCC\\\\UzHAVKfCMxDGvCAxBBhDJjC@NNvCPdBBXBXHr@Jt@?@Lr@f@rCBFb@bBNp@JZZbARl@b@xABDv@jBxAlCLVf@p@rAlBTZzAlBv@bA|@jAlD`FdD`Ht@~Bf@~At@`CR|@DNbAtF?Bv@xG^zG@d@FxCBtBCfCQdHQdGCjAc@tMQ~EM|DA`@SzFAh@Aj@IfCO|DMfEO|EMnE?HEnD?`B?x@?TDlE?v@@jALtCHjC\\\\bGd@nFf@hEv@`FF\\\\t@~D|@bEn@hCJ^v@lCh@~A|@lCpBxEJVTd@Zn@Zn@Zh@d@|@d@x@l@~@l@`At@dAV^NRz@lAl@z@~@tAFFj@x@f@r@NTp@~@j@z@NT`@h@TZd@r@v@fA|EbHpAjBrAjBv@hAhCtDpAjBbGpIhA`BJPVb@d@t@v@tABDl@lAN\\\\FJdA|B@@N^DJ^v@j@~AJZN`@b@lA\\\\hAh@bBdAxDbEhR`AhEZdBj@zCTnARtAh@fETrBFf@JdAJnABd@Dd@Bd@LlBFz@Br@Dl@FdBFtBD`C?ZB~BAdFKnFClAO|FIvCCfACdBATAz@?tAAdABlE?vA?@DnBDhBHxBHvAFxADt@NbBP`CT~Bh@hERvADZZnBXxAJf@TdAZxAThANl@Jd@Nj@ZlA^hAV~@Vv@@@Z`Ab@pARh@d@jAZx@^x@d@bAJTb@|@\\\\r@f@|@@@@DNVJNBFJNv@nA`@n@Zb@^j@d@l@d@l@|@fAPTv@x@nAnArBjB`A|@HFrAlAhFxELJr@n@HFb@\\\\r@n@l@d@XPd@\\\\XPb@V|@h@h@XB@VNTJNDLFXJh@RZJh@PRHLBl@PVFxA\\\\dAJbALlAHr@Bj@BvA@vCMtDWnBOr@G`AG^Ef@Ch@Cl@El@C`@?p@AjA@x@@vALb@Hn@Ld@JVDpAZnBt@pBbAj@\\\\^V|JtGj@^ZRRLt@^XPB@f@TZNHB`A\\\\^Jp@Pf@HdANt@Hz@HF?|@F`BFpCDN?xBDpAFn@FZDjAPnAXVHz@VdA`@zAp@TNtAv@tAbAhA~@XXNL?@JJhBrBTVr@bAlDdGP\\\\n@pA@@`BlDdAvBP`@DFfBxCPZNRh@t@~@fAz@x@XTDDLJt@j@j@^vAx@\\\\NpAh@tBj@nARHBnBLzA@^@jAGXAnAQl@QhBaAt@m@bAw@tBsBfAeApBgBVSt@o@pB{BdAoAfGgH~IiKpBmCv@gAp@}@~@qA@?v@cA@ArAcB?A^]X[BAJMLIBCxA_Av@a@bAi@^SbAi@`Ai@bAi@fAk@ZQfDeBhFqChAm@|@]NGt@QXGp@Gf@Ib@AZ?nAHT@h@JF@`@JB@\\\\Lb@PVJHD^RXNz@n@`@\\\\NHNJHFRNfAx@LRjCzBBBnD`DDD~@t@dCvBrBfBRNv@t@tAhAXTTRTVHFTRh@d@HFr@n@^Z\\\\Z^\\\\ZXB@~@x@NLLLJHn@d@dAv@x@n@HHv@f@^PRJjAf@|@Z`AXp@Lv@NbAHx@Fb@@vCHbBBrA@lCB~A@nA@hA?~AIlBCj@?ZCzFY\\\\CvDQRAtDOfCIrBCp@?^ChAEtCOh@At@ClAIv@GtASfASHCbAYhAa@zAk@hAq@BA\\\\S`BgArA_AzA{AxBeCzA}B|AgCx@eBl@sAh@wA^aAl@oBTy@d@}Ah@wBj@kDb@{C^cDVaCJ_APcBLkAXsBDWn@kDDSNm@VgAJ_@XcAV}@b@uAb@kAPe@^aAlB}Ev@qBt@mBz@aC|A{D^eA^iAHQTk@Tm@Tk@BIf@oATm@Tk@@Cb@iAf@sAnAcDd@oA\\\\{@L]DKBKfBwEVo@`AgCf@qAXu@h@yAN]fAwCTk@Rm@N_@fBqEx@{BRg@Tk@DIh@yA^}@Zs@Re@Xe@f@eAh@{@d@u@l@}@~@uAh@s@d@s@TYJKdB_CNSdBeCfBcChBeCpC{D`B{BdKuNbB{BbCeDx@mAr@kAVe@^u@R_@n@sArAwCvCaHpAyCtCwGXm@j@qAZs@`AyBl@uArBwEN]t@eBh@sAx@}BX{@Vy@Ty@Nm@Nk@Li@Jg@BKJg@Lq@TsAPkAZ_Cp@uFVcBRyAHc@Ls@p@cD`@gBb@uA@ELa@l@iBv@oBJUt@aBj@aATc@fAcBp@_Ax@iA`AeAv@q@r@o@\\\\UNMz@m@TM^UFEv@_@`Aa@f@QHCnA]pA]f@If@K`AIHAvAMl@C^AbA?F@R@P?H@zAFf@Dd@Fb@Fv@RrAZ@@^LJB`A^NHPJdAf@r@`@JH|@n@`@Z\\\\X@@j@f@v@t@|BzCFHp@bAx@pAfAvB@DpA~C|@lCV~@Pp@H`@`@zADVb@vBJb@Hb@V|@Nl@Tv@Tt@HRNd@JTJXTd@Vl@f@bAT`@PZjChE\\\\f@fBnCX`@\\\\d@\\\\b@HJp@n@f@f@LLNJb@^l@^fAn@bAf@lCjAjHfDdBv@dBt@~EtBNF\\\\NbAd@bAb@hDzA`@Pd@TZP`@Tt@`@DBPJPJn@b@B@ZVJHh@d@dA~@TRFH\\\\^HHt@~@TZBBZb@`BbCx@nAtArBfIzL@?l@~@hDfFbD|Ep@bABDJNdAzATZDHpAnBt@jAr@hAvArB|BdD|@rApAlBJNjAlBTZRZFL|@pAXd@LPPTd@r@LNZd@v@jAPRFJPRXb@~@~@HHHHHJ\\\\Zd@b@TRf@`@@@z@l@lAt@VNn@^t@ZHDz@Z`A^B@B@JBnA^PDp@V~CdALDnEvAJD|Bt@`Bf@nBp@DB`Bf@bAZ`@Lb@NlDhAn@RzAd@bA\\\\hBj@jDhAb@NhCv@jCx@lA^bDjAlE~AhFhBFBlDjAtAb@zAf@v@Tl@Rt@VxAn@d@PTLl@\\\\dAr@LJRL\\\\Vd@`@d@`@bA`AVXj@n@dCnCHHlBrB|BbCVXvA~A~@bALLJL@@vAzAz@~@\\\\^z@|@JNjAnAxA|A`AdAhH~Hf@j@t@x@PR|A`BfAhAl@h@NNLLbBzABBTRb@^v@h@`Ap@lAz@n@`@j@ZtBjAFBnChAdA`@|An@\\\\LnCv@RFjDp@v@JtDb@^BhCJh@B\\\\@hABrAAxDGT?`CEtAE~@ClCGHA|BEvAE`@AfCEpBChBElACpBEhCGHApBCnAKn@Cj@AfAAvACJ?nBGnAExBGh@A@?XAp@AnDG|AC~BElCJnBT`BZJB~Ad@|Bz@RHTJ`C|@^NJDfBn@bA^d@PjA`@pAZh@JD@z@R`AJ`@Dt@FXBnA@lB?DAlACvAMF?`@Gt@IPG~@WDA|@SFC`@Qn@YVKZQRIRMNGJKDCVU`@Wb@YlAiAv@q@r@o@fAiAdB{Av@m@n@c@^UdAs@v@]PGNG^Uv@Yx@SDAxAQvAKH?|@?bB?nBNvBX`BP`AJnC^x@FdBDvA?D?~@Cx@ETEv@KpBWnASTErAW\\\\GhA]@?`@Mf@M\\\\MPGDCPGdBo@z@]HClB{@x@a@hDcBTMzCwAtAs@DAj@UlAo@vE{B`Ae@nCuAzAu@pDeB|BiAtG_Dz@a@~BeAlB_A|@c@xCwAt@_@nAo@lB{@JGjAi@hB{@t@a@NI`Ae@l@]v@k@n@a@RMb@c@DEt@q@t@w@LMn@q@JM^e@HM\\\\i@NUh@w@BELQFKBEr@oAV_@Xo@~@qBpAsDd@{Ah@aC^cBj@uCZ{AdAqFDY\\\\oBb@wC?A^{Br@eDDO~@yC`@qATq@d@iAl@yA^o@T_@hAkBd@m@DEt@y@Z_@~AsAPOLGvAy@JEbAc@LGjAYLCzAYl@GjAE\\\\CdD?v@CjBEF?vBCN?N?bACnBCb@AfAAPAt@AnCCH?`BA|@?jDExACn@AjBE~AEf@AzAAhBCzAA~@AjBEnBA`@?rEId@AvEIL?vFI`BCzBCpFKzBA|CEtEEfSU~PQzFGzFGf@A`CCnBCfBArCEfACzBCzBCB?tCElDEh@AjBCfCCN?fBIjBMVCpAM~AOVChAMpAOvAOxAQB?vAOrCYr@I\\\\EtBSz@IhAMzAOLAhBUb@Ex@GvAObAKb@EdCWrBUtAQzAOjBQp@G|AQhBOn@GtAQrAQD?~AOl@Gx@KxBW`AKjAM@?v@G`BQ|AQhAK`@EtAObBOlAM\\\\E`@EbAMlD]nAOdD[LA`@GjAKtBUfAEdAEz@Aj@A`B?b@AjABbADV@p@Dn@Dp@DF@tAH|ALjAH|@Ff@Df@Bz@HfAHh@B@?fAHtAHdCRhAFz@Df@Bb@BH@dF\\\\lCTJ?v@FxBNv@FtBNh@DrDVB@jCPbCJP@jADnDDF?xBD|CAH?rB@dEDT?L@zB@~B?zB@zA@\\\\?dE@~B?hA@dDBnBBnC@n@?nB?rDBjC@hD?pCBnEDnB@T?dEBbC@j@?lC@b@?r@AbBKn@GXCvAMx@IVEhBWr@KhASf@ILAZGt@MnAUbBWl@Kz@Op@Mh@ITC|AW`BYdBYtAWp@K~@Of@IbAQ\\\\GlAQd@KbAQjAQh@KbAU\\\\EJCd@GXEz@Kh@KTEf@KnAQTErAU|AUBAjB[ZGdASfCa@t@Kz@QXErASz@Oj@K^IREVE\\\\GlGaAx@OrEy@^GpCc@zDk@XGpEw@@AtEw@pAU|AYfGeA`De@jDi@lASvF_AfCa@DAlCc@dJ}AvKgBxB]tF{@nCi@tB_@FAvDi@zASvBi@~DcAr@WnAc@pBq@LGpCkA|Ag@fBm@lEcBHE~By@VKpB{@hBu@rAg@NEx@[pAc@bAUf@M`B]vAW`BIfBS`@?bA?nB@D?nBJdCTdARj@JbDl@B@nDt@z@PdBXhAR^HzDx@x@PvCh@|@PdAPdARpDt@nCl@hCf@~Dt@RDpDr@vCj@|AZhARbC`@vDb@hANlC`@F@xEh@|ARpC`@|@HfCVrCd@x@LtAPbALhALjBThBP`AJxCd@vDj@z@FhALhDb@f@Dx@F|BJ^?hBB|CG~AGhAGrBUVCnCWD?bC[f@GlC]vASv@ItBY\\\\E`BSvCYlBQfBWj@IzHy@tCY`BSjAO|B[HA~BWvAO`@Gp@It@KBAxC[rC[p@IlC]zAOzBYpDa@lC[VEpC]HAhCYhAMrC]\\\\ExDa@\\\\EpC[^EpEi@B?jC]@?dIgAfKkA^EbJeAJAlFk@dBSbHy@`AKrC[hHy@dD_@hBSjBSb@Gb@EdAMb@GfAMpGs@fHy@HAhDa@v@MdAQp@KXEh@O~Aa@|@Uj@SnAc@j@Sl@WfAe@fAe@l@[fAk@v@a@RK~@g@x@c@PIDCr@]rAo@bBy@FCpL_G~@e@jFkCbLwFtFsC@?lBcAhB_A|@c@nIgEnHsDxDmBxFsChEwBjCqA|@g@?AfDcBjG_DtAs@pAo@nIgEtDiBjAm@fDeBdCoAnIiE`Ag@bAg@`@UdCoAbB{@`@SnIiEfDeBl@[|DoBvNkHvC{A^QbCkA~F{ChAk@|BkApKqFb@SjGaDrBeAvC{ArFqChIcE~@e@tH{DXOjGaDb@SfEwB|C_BHCd@U^QXMf@Q`@QLETIHCd@Mb@Ml@SbAYHEf@Op@Sn@UXInBk@vAc@dBi@d@MvGoBpBm@dEoApFaBfA[nQoF`Cu@lA]nDgAdNcE`@K~J{CvGqBXIFCjA]lAYt@Q@A|@SbAQ~@MRC|@Mj@GbAK`BItBGtBAZ?b@?F?lCHxEN~@B|CJdDJrDJpDLfCHnABfADb@@fADfADl@@lELlCHbIXjBF~FPxAD|K\\\\T@jHTnCHvEN|BFfOb@X@dGPrHTV?lDBrDDdB@lA?nC@zA?r@?nC@nC?T?vBGb@AvBDXApAAvBA`@Ab@Ad@El@EBAZGDA^Ef@KFCx@Sb@K@A`@M@AbBk@BA^Q`@Sh@YxAaAtA}@dBeBtAqAfJsL~B_DjA}Al@y@L[z@gAzBcDfCkEhCmF`@}@xBeFlB_FfBkEf@iArBiF|A_EjCqGzBmFn@}AxCkHv@mB`FkL`EqJhDkHbAyBnAyB`BuCnByCJOzGwIbB_ChDsEfGoIxB}CZg@|@{AdCcF`BoE\\\\mAj@sB~A}H@M~@uGdAcID_@n@{Ej@qCLq@`AwDf@aBXu@Rm@j@}Aj@qAb@cA|@_B~@aBbB{BZa@HMrDcFhAsAdC}CFKdFoGfAuA`BwBvH{JT[p@y@hA{AV[`AiApByBhBeBpBuA~AaAdIaFrAiA`C_C~@gAt@eAzCcEHQxBoE`BcDhA_DhBcGNe@@IbBeH^qATw@jAkEzAyF~A_GbBsGvA_HN_AXaBn@wE^wCDi@X{Ch@sJFkBFaBF_BFuCFsBV_GRoCPaC@G^gEFk@`@kDn@uEh@iD@I@I`@_Ch@qCl@oCDU\\\\yAd@qBjBqIr@yC`AoE~@eEPq@h@wBHYPo@Pq@Li@BEp@wB^_AHS^}@|A_DvAeC`B}BjByBnAmA\\\\Y\\\\YbCiBxB{AtA_ArA_A|@o@XSDE`Aq@|BmAhAg@dBi@bAWvAWt@I|AQt@Gl@GpAO|@O~@Q\\\\IXIxBs@f@WFCXM`@QBC\\\\ODC~Aw@@AdBcAdC_B|BaBxAuAvGcH~BcCV[tA{AFGvAyAt@{@nAwA`BcB|@_AhCgCLOl@k@h@k@lBkBNOLMpCgCfBiA@AlAm@pB{@zAc@dB_@rBS~@GbB?|BJpBXpAPTDvB^H@bC^fANb@FH@VBNBb@Hb@FNBRBb@F\\\\FpAHbB@H?bBOn@G|A[d@Qr@STIhAg@dAg@|@k@p@_@t@e@v@e@XQl@]lAu@|@e@^SRMjAs@pAu@jAq@nBmAj@[pIcFXOrHqEt@c@zIiFf@[XUd@[fA{@JIbA_A`AeAhAuArByCp@mA~@iBRa@Ti@hAoCf@{Ax@kCh@mBlAwFh@kCd@yB`@{AZmAV_Ar@eC`@sARm@r@uBhA{CVq@bAeCbByDfBcEd@eAbB{DRg@dFqLvFsMBI~CmHdCyFn@cBHUf@qAt@{BRm@JYn@uBxAmF`@aBJc@BMNq@`@cBr@gDj@iC\\\\_BXkAFW^cBFYn@uCBM\\\\wANo@Nq@n@uCNq@TaAxCgNh@eCdB{HnCcMDOhBoIhAgFDQrAcGPq@|@_Ed@qBZmAT{@lA}Db@uA|@kCbAmCFQhCkHf@iAdAmCjBcFnBiFnBkF~@eCb@eAL]FMN[l@wAv@wAf@{@f@{@Xe@PYzAsB?AlBgCJKt@u@|BmBn@e@fAw@JGbAm@vFgD|BuAbCuAVOnBqApA_Ah@a@^WHGhAcAbBaBvBsBDEn@q@fFyGZc@d@k@jAaBXa@dDwEzE_HZa@bCgDb@k@JQ\\\\e@p@_A`BeC\\\\e@\\\\g@jAkBd@w@NY`@w@p@yAr@eBtAgE|@_Db@yAh@iBpBiH\\\\kA?AX_A`@}A\\\\oAj@_CVoAViABSf@{C@Gb@uDNuANiBb@mHd@uJf@cK@c@FaABi@JgCLeCJyBLoCNuCNsD^iHBk@RiFD{@N_CDq@Be@Fq@Dw@Da@BQFk@NoATyAl@}DTy@XmA`@sAX}@Vs@Xy@f@sAXo@Pg@Tk@FO^_AXw@Rk@HWZgAJ[Ry@VkA`@yBb@aCt@aELs@DQ`AoFRiAp@wDp@wDDUJs@t@oEJ{@Fo@JaAJqAVoEFqA@e@@QH_CFaDHyB@e@Bs@Bo@Bo@FeABSFaAXeDZ_DLoAFk@J_AVeCB[RiBV}BLyAHu@Hw@PkBFu@NqADWHu@NoADYHc@NkATqA`@}Bd@sCJu@VqBTyBXkCP_B@I\\\\aDHu@\\\\aDBYNoAVeCb@_EBWNwA`@uDDe@N_BR{B?KN_CPsCBc@V_EVuC?ENyALeAR_BZuBLq@X_Bj@uCd@kBFWf@eB~@_DDKhAaDl@aBvBeGDKrAsD~@iCTk@bBwEXw@rAsDr@wBDMpAwCbCkFvA{CtBoE@AjAiCJQDINW|@mBtBoETg@l@sAfA}BJSJUVi@FQd@cATk@Vk@n@{AtAeERu@Ro@FU`@wA\\\\yAJi@D[Jk@ZoBXiB@KVeCX{DJeB?CJeD@kBBgDByCB}G?GDuI@gBDwG?_BB{CAsAAyDMuKCgCAw@EwEEmDIyH?UKoIIoICuACqBCeDA}AAg@?u@@sADwAF{BTgDZmDXuBJk@Js@XgB^cB`@_B?A^uAt@_CJU\\\\aAJWh@kA\\\\q@Zo@n@gAn@gA\\\\i@V]BEv@eAFGp@y@\\\\_@tAcB@?Z]LMl@k@@A^Y^Yl@g@NKz@m@fBgA`@ShAk@xAi@pC{@dA[t@Ub@KLCb@M`@KZKpCu@fAYbAWhBe@tA_@n@Qn@OZK`@KnA_@XKbBm@d@QFCn@Y`Ac@hAq@d@WbBcAd@YxC{Br@i@JInBeBxBuBbBmB|@gAdDoEpAkBd@s@f@}@xCkF`@s@pFeKzBiEjAwBrCqFnDyG?AlEoIPYHOnBaDRWl@w@?AX]V[FGTUt@u@l@g@ROJIp@i@l@a@`@W^WJIhBiAd@UvDoCBCPOVUv@s@h@k@JO`@i@hBiCVe@hAsB`AwBd@kA`@eAFQn@qBTw@bAwDR{@l@iC@Iv@mDv@oDr@aDlCuLBIjAgFbAoEJe@nCgM`@cBv@iDvBsJTeALm@`BqHhBmIt@eDf@}BDYj@yC@IHi@j@oDD_@d@uDD_@ZmCReBHo@TwAh@mDFYVsAn@aDLi@VaAVgARq@j@oBx@eCfA{Ch@yAn@uADMXo@lAoCr@}ApAwCfB}DBG`BqDf@aAh@gAR]l@cAd@u@lAcBh@q@TYbAcAXYxAqAdA{@zDcDf@e@p@m@z@w@Z_@DEX]@ALQ`@g@rB_DlAuBP[bB_DFK`DyFNY~BcEZg@`B}CXg@hDoGDIXe@`AcBb@y@z@cB\\\\u@FM\\\\w@v@oBPc@`AiCtC}HjEoLn@gB@CXy@Xw@X}@Ps@Pq@`@aB?ANq@PaATwABUD_@RcB@KFk@H{@@ODk@Do@HkALuBDw@@YDeAL}AHsADYH}@Hw@J_APuAV_BRkALs@H_@Nk@@G^}ARs@T}@Nk@T_ADORo@~@gDRo@lB_HBKtAcFRo@^yA~AuFPo@b@}AhAcEjAiENe@DMRu@b@_BZgANk@Ru@`@wA\\\\mAFSd@_Br@qCBKp@eC@ENi@x@aDJa@T}@\\\\{ADMZkAZgAp@aC`@uANi@~AsF`@sAx@wCRs@HUv@mCT}@Ni@DSHa@VgAVkABS`@uBRwAN_AXyBHs@NqA?ITcCH_A@IDy@F{@HyBDmABq@@SBs@BkA@{A?y@?eA@}A?W?MAsCAmDA_@?S?sBA[@m@?_A@aA@{@Bq@?SBo@Dy@Dw@FaALyAFi@J{@Jw@DYb@oCDUHe@Lk@VeAZgA\\\\iAXw@BITk@N_@h@oA`@aArAwCdBwDTe@`FwKDMJUPa@HUN[Pg@Tq@^kAXcAx@mDZwAn@aD`@sBLq@P{@^gBjA{F`AgF|@yEnA_HLs@`@qBXkAXeA@EPo@BGX{@v@yBDMj@oAj@iA`@u@`BoC|BoD^m@`C}Dj@_AHMfDsGv@uAVg@P[|@yAbBsCZm@p@mAP_@DIRc@N]N]J[BEVi@DKLa@b@qADIRm@Rm@Lc@l@gBl@mB`@iAhA_Db@}@`AwBfFwITa@JMPYd@y@d@{@j@oAXq@r@kBb@uA?Ab@_B^eBj@gDXqB^{Cb@eDh@yDf@yCD[BMReAPaAReA^}AP_ABGXsA`@kBl@oCH[h@_CfA{Ej@sCHa@TaAHa@Ha@PcARiA@IBMBOXiB`@eCDU^gCf@yCdC}O`@kC`@{CJw@\\\\cCZ_CLaAv@wFt@uFBU|@sGnAoJv@sFp@aFHo@NkAb@cD^}C\\\\cCPkAPqAVmBVcBJu@b@cDb@iD\\\\_CLaARyA`@}CT_B`@uCd@uDd@iD@CR{ANaAVqARcA^aBBId@cB^mA`@iAPi@@EJURc@Re@^u@BEj@eAn@eAv@gADGl@u@v@{@NOLMh@g@n@e@n@c@DCf@]h@Yp@_@h@Yl@Yx@a@zBiAxAs@nAo@l@[jCqAfAk@v@c@pAq@PM~@o@ZSVU\\\\[@?z@{@@Cv@}@JMv@_A@Ar@gAf@u@|@eB`AwBx@_Ct@kCh@uBf@sCn@qDr@cEN}@l@kDDWh@_DLm@f@eCDQN{@^}AXsABKRaAJa@DSPy@Ry@BMNq@FSLi@Lc@L_@DMFOJ]Xy@HWTo@\\\\aAHUPe@Pg@Tq@HSJYZ{@f@qAh@mATi@Tm@Vi@N_@p@_B@CRk@L[FQXy@J[Pg@BKRm@FQ\\\\mA@Cb@yAFS\\\\kAXcAVaAJc@`@_CXcDVaD@MH_BJgB@m@@aA?I@cB?ABoB?KBsC@}@@u@@cBAeA?e@?_AAu@EcECw@KeBWgCI][uAw@}B_@eA_@aA{AoEE_AIoAUmDG_BCa@Ay@@mB@aA@]D{BFyBDkBD}@@m@HuBDyADyAFaBBo@@o@R{FF_BDqABq@@WHgB?CJ{A?ONaCRiD@SJiBFcAFqA@KHuALeBHq@Hw@@S@IDUFi@Hc@F_@PaARw@F[Jc@DSRs@Ru@@AZcAHUTi@h@kADIVc@Tc@Va@FKP]DGBELSFKj@_AHKXe@PYb@q@Zi@Va@Xe@RYz@uAVi@LUHQp@iAZk@d@{@JQp@kAp@oAj@cAn@gAfAqBdAoBl@kAVg@p@oABC`@w@@CJQHQDI^m@LULSZk@FMXe@BCZm@h@_Aj@_Ah@aAt@iAT[r@eAt@cAv@aAfAoAr@w@\\\\]TUd@c@JKROZ[@At@m@FGLKLKBCz@o@@Ap@c@LGf@[`Ae@|@]pAc@z@MvAUjAK~@EjAAhB@lABrABt@@pABf@?R?^C\\\\AXC^Ef@G^I^I\\\\K`@Mb@Qv@_@x@e@f@_@~@w@t@u@f@m@\\\\c@d@q@r@qAb@{@^w@`@aAN[\\\\y@^}@`@_A~@sBVk@n@}AlBqE@Ar@aBLWPa@p@}AVk@n@wAz@uBv@yBj@oBj@sBt@wDT_BLaAJeAJkAX{DNmBDo@De@^yFFiADy@Bw@Bw@BeBJaFD_BBuABgADkA?ADcADw@Dw@Dy@Fy@XoDRsBNaBb@{EJiA^iEVeCTmCRoBVaCP}AR{APmAViBXaB^yBTqAX_B^kBP}@b@kBd@oBb@_B^oAf@aBf@}Ab@oA\\\\aAXq@Pg@Re@x@iBBCp@qAdAqB\\\\k@l@cAhB{CtBmDl@eA\\\\m@PYDEZk@tIwN`CaEfBwC`@}@d@w@f@}@t@kAv@uAj@_Aj@aAj@_Al@aAtEaIdBsCR_@lAqBDIv@mA@CJQJOLSv@gAJQX_@Za@@ChAyAjAuAfBmBj@k@Z[XWXYRQLMNOHIPOv@o@b@]b@]f@]f@_@^Wf@]^SXQ~@i@^SNILIJE`Ag@LEx@a@~@c@f@UpB_ALELG~Au@~@c@b@S`Ac@TKzAw@dD}AdJgEd@Q`Aa@f@QnAa@v@SdAUj@M`BUb@GbAIB?HAJA`@CtAEj@Cr@An@?f@?bABJ@lAFP@R@RBB?TBl@FB@d@DZDTDZDF@F@XFh@Jn@PVFZHVFPFd@Nv@Xp@Vl@Vl@V^PDB^Rv@`@~@f@p@\\\\^RTLj@Z|@b@r@`@t@`@@?j@Zv@`@^RNHp@^b@T`@T^R\\\\P@@\\\\N~@b@jBbAf@Xx@d@VNlAn@`Af@PJNH^Rf@XRJPHB@bAd@`Ah@NHfAp@jAl@fAj@\\\\Rp@\\\\dAj@hAj@FBv@^p@`@z@d@DBjAn@`Ad@bAj@|@b@hAf@z@Zx@ZB@|@\\\\`A\\\\`ATLDjAZpAXt@L`@FXFdANhANdAPF@f@HhANhAN|@NNBbBTnAPnARpAP|AXlAPd@J`@H~@RjAZr@PRFf@NhA^h@P\\\\HXLf@Lr@TRH`Bj@rBj@~@\\\\b@NnBl@XH`@L`@NHBXHp@RD@ZLPF@?xAh@\\\\LB?dA\\\\dA\\\\rC~@~Bt@HBz@X`AXd@N\\\\JJDPDbA\\\\~@XB@dCx@rBn@bCv@VHl@RrA^v@Tv@VJDb@N`@L`@NNDRFVHVFb@N`@Lh@PZJ~@Zf@Nd@LbBj@d@N`AZXJdCt@xDvAp@Vr@Z`@RzBhArDfB`Ad@~C|AFBlAh@~@b@ZPdCjATJl@ZbAd@bAf@^RdBx@@?TNh@ZFB|@j@bAp@`An@^Vp@f@LJfA|@nChCzAvAz@x@`BzAv@v@z@x@xAxA`B~AfBhBHHvCrC|@z@z@x@`B~AVVz@z@HHp@p@xBvB\\\\\\\\|@z@xBvBpCjCh@h@VV`@b@fA|@v@r@VPlAz@z@p@n@b@FB~@j@j@XVNdCpA@?bCnAB@dD~AnI`EhErBJDdIzDdD~A@@dBx@bBv@bAf@`@PbAf@RJLDbBz@`@PbAf@`Ad@bAf@\\\\PB@`@P`Af@`@RbAd@fD~AhEtB|@`@bQfI^PzBfApB~@dBv@bBx@b@RdCnA?@bDzAzCxAp@ZfBx@`Ad@r@^dBt@LHTLNFbAf@FD~At@^P`Ad@PHzAr@XLbAd@^PNFRHPH\\\\NtAf@j@RtA`@pBh@D@`ARnAVzATrAN`BP\\\\Dz@DdADR@fABb@@\\\\@D?fA@b@?L?T@jBBfA@F?nEFJ@dDDjABjCDdA@~DDdCDL?x@Ab@?d@AdAGb@AjBOb@C`@GfAOnAQ|@SvA[PE`@KrCu@ZKxAa@tBm@fAY`@MnDeAbAYlEmAnCu@`@KJEpBk@rA_@tAa@PEbBe@f@OTGJCj@Q`@K@?`@MjA[\\\\K`@MJEtA_@DCb@Oh@QpBs@`Bm@hBq@PG`A_@z@YJCx@Uz@Qv@Md@I\\\\EhAKTAxAAB?hBD~AJzATVD`@HZFh@NVFVH`A^VJj@Xd@RtAz@|AfAfA`ANLnAtAhArA`@j@b@l@p@fAp@fAt@xAh@dAFJ|@nB~@nB~@lBn@nA^r@j@bAf@x@n@`A`@f@DDn@x@`@f@XZTX\\\\^`@b@`@`@f@d@p@p@f@h@n@n@FH`@^ZXVXb@b@JLLLDDl@l@f@f@RRdAbAnAnAdA`At@n@LJfAx@h@b@LJ`Ap@TNz@h@FDxAz@f@XzA~@JDJF`B~@d@XjB`AnBfAtBjAv@d@tAv@nAr@`@TNJnBfAvAv@NJrAt@LHn@\\\\n@^B@`@RdAj@\\\\R`@R`Ah@HDJFp@`@TLHFpAp@PL`Ah@f@ZvBjAfAn@|@f@xBlANHpB`AzBx@@?fB`@HBvBXjBLJ?lBD`@AfAEdBOtASXEbAUhBi@HEbBq@z@e@h@Yv@g@DCdAy@ROl@g@ZYn@q@d@e@TYx@aANUPUZa@JOLUXe@Xe@^k@Ra@x@aBx@qBDMb@kAZ{@J_@d@}AJ]X_Ab@_Bb@_BFUfA}D^wAb@eBr@kCNo@t@qC`@aBPo@Po@VaARk@Pi@Le@BIZiADIHUFQJYHW?ATk@@CNa@Vm@Zq@Te@Vg@FO^u@\\\\k@T_@LMTa@BET[l@}@`@k@`@_@xBuBFGVUpBiBFG^[t@q@d@c@\\\\[^]\\\\[\\\\]|AuA\\\\[\\\\[^]xBqB|@y@|@y@rCiCb@a@tFiF|@y@xAuADEj@i@JKPQb@e@DEx@_ADET]rAgBZc@HKj@}@`@m@Pc@|@aBZi@p@qAf@aA`@u@v@}AVm@`@}@d@mAj@aBJ[j@kBLa@^sAr@eCFSd@}ANe@BI`@qA@EFWDKJc@To@Vw@Rm@Rm@JWj@_B\\\\y@n@_Bp@qAj@gAFKh@cA|@wAr@aA|@mAPQ`AcA|AyATSh@g@RO^YPOl@a@^W`Ak@LGvAq@PIp@YhAc@`Ck@nBc@`@GpAWbBObAErDQpDQb@CvESfAGfAELANAbAEb@AXAH?`EWzAGn@EfDMj@ClE_@j@GlB_@z@OdAUb@IbA]`@Ox@YJEbAa@bA_@v@[rCsALEtEwC`@Y`Ao@FEVQv@i@PMLKZU\\\\Y\\\\W`@WROh@a@p@a@dAaAhAy@vCuB\\\\_@~@cAPQVSfE_D\\\\Wb@U`@UbB}@`Ai@`Ai@nAq@v@WdA]|@[D?fAQLCDAn@K~@KfAOlCMn@EjB@V?pA?`BPjBPF@H@PBxAL|@HxAH|@JfCP`A?L?`@ChCCj@GdAK|@O`B[t@ORE~Ac@v@]j@UbB{@t@]rBoARQ|@w@|@u@JKJIr@o@f@c@n@y@Za@\\\\_@@Cr@cAXa@Zg@b@o@t@oALWXi@Vg@Xg@BGv@cBn@{AlAiCl@sAn@sAbCmFFM`BcDn@qA~AeDt@yAj@{@BCv@gApAiBZc@BCv@y@HIHI~@{@PQlA}@|@s@hAy@fGyC~@]h@QdCg@b@I`@IJCFAFAxDq@~Cm@p@MRIb@M`@O`@Q`@Q`@Q`@QbAg@`@QDCXSh@]DEFC^WLIPO^Yd@_@tAmAz@cAnAwADErAgBPUd@q@rAsBRa@Vi@p@sALYBEDKx@mBHQVg@Vi@|AgDVg@dAaCl@sATi@l@uAl@uAl@uAzAiDd@gA^w@dA}BPa@Zs@FMLYLY|@sBdA}B|AmDdFeLrBsEbA_CrBsEnE_KdA}B|@uBr@_Bl@uAl@sAVk@bA_CVi@l@uAL[^w@`@}@d@}@JU|@aBzAoC|@wAt@gAv@iARYzAgBh@q@l@m@`@_@bBaBt@m@l@g@nBwARKp@_@l@Yz@c@x@a@@Av@_@|@Yr@WHChAa@REh@Oz@S`AQjASdAOf@GJAp@ExAKZ?b@AL?x@CD?hA@|@?d@B^@d@FlALrAPPBnAT~A^@@`B`@pCn@TFn@PjCr@`@LB?`AVdAVzBh@pEhAPDtFrA|Bh@n@PnD|@nDz@ZHjA\\\\hBf@`@LTF\\\\JPDdAVpEjAjCp@dAVhBd@dAVdAXhBd@LBRFhBd@RFp@NpEhAF@fDz@~Cv@vBh@l@NxKjCdAVxA\\\\TFJBJBfAPRBp@HxAPt@Dp@@T@p@@nA?|CGN?t@GDAdBSB?^G`@Gb@INCRCn@IRETCn@KTElCa@`AMDApDi@`BUnASlCc@dAQjBYdAQ`C_@JCxB]LCNAdAQr@I|B]hBWjBUrC_@dBWfAONCt@KhBYb@IfAOdAQzAULCpDk@pDk@lCa@vF}@jBYPCPC`@GfAOb@Gb@Gb@GJAJChAOhC_@~@Kl@EH?f@ATAT?X@^Af@BZB^@TBl@Fz@Jn@H\\\\Hd@FRFRDJBXHXHD@F@PFf@Nj@TZN~@`@dAj@|@b@bBrA~@t@nB|Aj@j@z@z@tCtCf@d@VXXZn@r@h@h@\\\\\\\\@@XZ^\\\\\\\\\\\\RNRRXT\\\\T~@l@b@V^N`@NNFnAf@D@h@Pt@Rh@Jd@Hb@HB?bALJ@`AFn@B^Dx@BdAClACbBYFAjB[jBk@B?bBq@RIx@]j@[`@U^S`Ak@^UFCZONKrBkA`@Qt@a@|BqApBqA|ByAhAm@nAq@BArAo@d@S|@e@p@]~BaA|@UrA]zAYjASdBQVCvBK\\\\CjB@D?dAHVBvBVVDtB`@h@J~Aj@`@Nb@ND@dAb@^NFDxAf@B@`@PfCbA`@NdA`@fCbAzB|@rBv@nFvBnGhChCbA`@NbA`@fBr@bA`@bA`@NF|D|AfC`AdA`@`@PbA`@JDLDbA`@dBp@fBp@tAj@NF`@NTHn@Nb@J`@Jb@L|@RnBd@nDx@hBb@b@JD@dCj@hBb@dAVnDz@nEdAd@JpEdAjCl@fAVjCl@dAVF@|@TlCn@fBb@nDz@nDz@jCl@b@JdAVjCl@b@J`@HfAV`@J\\\\Hf@Jb@J`@JfAVfBb@jAX\\\\JjA`@ZFhB`@`@JfAT`@Jb@HhB`@`@Jb@H`@Jb@J~A\\\\HB`@JdAXb@L`@Lr@Pt@Pb@HlBb@`ARfBb@hAV^H`B`@`B`@tAX`@HtBh@fBd@vA^D@jB^jAZXHx@RrA\\\\bA\\\\VJj@TrAj@tAr@^TTJJFx@h@RLRL@@~@j@~@l@`@T`An@^T^XFDv@f@JFTL^T|@f@hAb@f@RZJb@Jr@Rr@Rb@Jf@NbBb@`@JrFhAd@LdAVhB`@TFRDx@RJBnDv@rEbAnDv@`@JfAT|@RlAZdAVl@NVF`B\\\\VFH@NBB@`ATb@J`@JfAVtA\\\\LB^HD@fB`@^HB@b@J`@JdAVb@JdAV~Bh@l@Tb@NLDt@Tr@RtAj@THl@ZbAf@t@^nAn@`Ah@b@T\\\\P`DbBlEzBTLnCzAvC`BtDpBlE`Cz@d@vBlAnBdAlAp@TJhFpCdDdBdB~@bDfBhGhDj@Z|DrBfExBrCzA\\\\Jz@^|Af@lAZhATfAVbAHvALlAHf@B\\\\@|@AtAApAG~@KVC~AYvA[BAtA_@lA_@HEhAe@vAo@f@YLGnAw@tAcA~@{@JIz@y@dAgAx@aAx@cAl@w@NQh@y@n@aAdAmBFMj@eADI`@aAv@gBBGPe@Tk@BG`@qAZmAd@yAXgAPo@DQXqANo@Nq@Nq@No@Nq@Nq@Po@Nq@Nq@pEaSxAqGVeArAsFH[zBqJ~@_Er@yCxAgGv@iDXkAx@iDH[Ps@dAyDx@qCJ_@p@gB^eAHSx@qBFOVi@Tk@N]v@{ALUJSn@mAZm@hBwClAeBXe@@A`CmCj@o@pByBBCjB{Ad@_@h@_@`@Yh@a@jAu@JGfE{BbAc@bAc@f@ShAa@VI`@O^MBA\\\\Kf@MDAf@Mt@QBA`@Kd@GLAb@Ib@CRCb@CZCj@ETCp@Cb@Ab@CD?\\\\?b@AP?t@AfACT?LAL?TAb@AF?|@Cb@ATAL?b@Ab@Cb@A\\\\AlAEX?HAb@AnCGtEKnCGjBEH?pFOb@CzDKZ?zCEfAGb@C|@GxCIb@AjBElDKjJYf@AbJYhK[D?pNa@|BG`ACzFOpDIxCG`BGvEMvBG`@CP?\\\\?\\\\EZCp@ELAp@EREB?^G^GXALCRGb@G^Gl@K\\\\IZIh@MJCVGl@Ob@Mv@Wl@WjDuA`@OnAi@lBeA`FsChCwAjCyAx@e@xDyBLGbDmBlAs@tAy@vBqAd@YFCXOhBcAlAq@v@c@bDkB`Ak@t@c@fAq@DCbB_ABC|@c@`@StBaAr@YdBu@dDsAhA]x@UJEdBm@b@KlD}@@ArDm@hHcA|Kc@rDMNA~BKjAEnDI`ISrDIfAEjBET?LAfAEb@Ab@AnCInCI`IWxBG`CInCIjBGb@Ab@AfAEb@Ab@Ab@AnCI`@ApFOl@CrDKBAnDIn@CbCGxACxAEj@AfBE^Az@Cp@CvAED?lAC`BGf@AXApAGB?`BKLANAZGjAQ@Ab@Ij@MbA[JCt@Yj@S|@c@z@c@dAo@`@Yd@_@p@i@rAmAnAuA|AkB~A}B|AaCf@u@rAsBzA}B~AcCbBiCjBuCpAmB^i@zBiDDEpAmBXe@nAmBXe@r@kAZc@RYDItBaDNUt@iAXc@Zc@FKzA}BFIXc@Zc@b@q@dAcBDIhD{Eh@y@V_@v@mAfAcB`A{AT]v@mAp@eAt@iAf@s@h@w@xBeDJOjAcBp@}@r@y@fAoAb@c@n@o@fAeA|@w@p@k@ZU`@[ZQd@WXM`@QXIb@MZG^I\\\\Eb@G\\\\A`@CZ?b@?T@F?`@@ZB`@D`@Dp@Lp@JlAV|@RfAXl@PdBl@FBn@Vl@X`@RxAv@ZR\\\\RXTz@p@r@j@VRTRTTZZZ^`@d@pB`CbE|EbAlAt@z@^b@^`@xAzArB~Bx@~@nEfFzEhGFHb@T\\\\b@tA~Aj@r@r@x@n@v@hArAvAbBt@v@JLbAfA~@hAdApAl@t@X\\\\dApAlArAjDfEn@t@bDvDdAjAf@f@tEzEpAnABBbC`Cp@n@vCnCd@`@jB|AdA`AxArA`BtA?@`EpDnD~CrBjB~AtAzBpBbA|@xAnAHF~AxA~AvArAhAf@b@d@^f@\\\\f@\\\\XPLHf@ZJDv@b@j@XbClAhCnANFxCvAhCt@vBl@zAN`CTtFKt@KvAQvAe@dA]XIFCb@SVMXK`@Q`@S^QNGJEVKVKf@U`@Sj@WvBcABAvBiAn@YbAe@vBcAn@]`@Qf@W`D_B^Q`@SPINIPIRK~BiApCuATKhEuB^SlB_A|Au@bBy@~@e@d@SdAg@bCmAdAk@~Aw@vAs@LGjB_Az@c@dCmAPItDkBdAg@bBy@zCyAnBaA`B{@fFcChAk@jCqA|@c@bAg@r@a@n@WDA`@ObC}@l@UlA_@n@Ob@MRILA\\\\Eh@Kb@IhB[TCLAtEc@lCWp@GTCvE]LAv@GjBONARCbAIjBKBAdAKH?dAIr@Ix@EXChDSnAGfAIx@Ep@Cj@Cj@Ct@EZCPCdAGb@EHA|@E|@GJCn@ER?d@EfAK^CBAl@GVCZEJCV?h@C\\\\Cb@E\\\\Cr@KtCWb@Ab@Ed@CNCzAKNAfAIRChBI|AI\\\\Cr@CvAOjAKVCnBKD?jBO~BQ|@I~AM\\\\ClAU|AWJCb@IJCVEVEr@Kt@UzAe@JCrC{@`Cs@B?fCu@|@YzAg@`AYFAdBi@pAa@p@Uf@QpAa@nA]FAbA[t@UVI~DkAj@QtC}@|Ae@jBm@bBi@dA]lA_@XI`@MfBi@b@MDAfDcArA_@|C_AdA[VIl@Q`@ORGvBo@|Ag@HClDgAj@QbDaA|Ae@l@SjCy@bA[tBm@RGfBk@dA[BAbBg@dA]t@UNEhCy@bA[@?bAa@|B{@j@[hAk@~A_A|@k@LIlC}BRObCcCz@{@\\\\]`@a@X[RUTWx@_Az@}@Z_@\\\\_@\\\\_@Z_@\\\\_@DEj@o@LOLMvA_B\\\\_@RUFI\\\\]pByB|@cAn@s@bBiBFIlBuBdBuBJKpAuA|AkBZ_@`BgBTUvAwAtA_B@At@{@RQTURSVUNQNMJKNMPQPMNMNODCHGZWVSTQZWVUVUXS@AVSLIXS?ANMNKFGVULIHIRQLMDE`@]TSXUBCZWXUHGPO`@[PONOTSd@e@DGNM`@]POZW\\\\[TQRMLIBCXU^YTQ`@YXW\\\\WZU\\\\[ZUVSJIr@g@DETQLKNKd@c@@?VSFG\\\\W@Ab@[XYLKd@_@n@k@t@o@^]XWh@e@\\\\]^_@VUPQn@q@t@{@XYf@k@^e@\\\\e@Ta@f@i@DGRWb@o@|@mAr@gAT]Xe@lAkBn@iAj@aAt@mAdAkB~@cBp@oAfAgBrA{Bt@mAf@y@~A{Cf@{@FK~@yA`@{@jAqBfAqBNUzB_EJSpA{BfAiBz@yAj@_A^o@pA_C~@aBj@cApBkDtBsD\\\\k@bAiB`@q@hBcDl@cAbAaBtAgCVe@vAcCNUhB_DfCmEd@{@xAqC`@u@lA_CR_@j@iAr@wARa@\\\\o@d@}@BEJSLSVi@JSh@w@^o@R[\\\\e@f@s@bAuA~@gAX]RSFEPS`@_@^]l@e@VSPKVS^Wb@Yr@c@h@UXOLE^S^Oh@Q^Ob@OPELEd@Mn@M`AWHAp@MRGXGj@MBA^INC^ITGNCTEJCNCDAb@IXEj@MBAn@OREXG`@Ib@Kv@Q~AYh@O|@QtAWjAWrAYdAWHCvAYj@KdAWh@K\\\\IbASJCVI@Ab@Ib@I`@EXEl@KXEvAOr@En@CX@N@t@C`BFJ@fADj@B~@DX@H@~@Dj@@Z@j@Dh@BpA@dAHv@B`ADpBNrCR`Bb@@@h@Rp@Lt@J|@FbABF?B?n@Bv@FH@d@FVBB@P@L@`@Dp@FTBfAN^FtDRj@DdCJnDLB@rDNV@hGZfBJrCNfBHfERtAFnCL`CLdFRb@B`@@fAFb@@b@BrCL^BfADjBH@@dADfADx@BrAFb@Bb@@b@BN@v@BvERB@bADjBHbADB?hBFfBHf@BfAD`CJxBHpAFbDNnCJhBHD?`DNt@BnADdBHdAHTB|ATbAPjAZv@Vn@Tv@ZDBt@^f@VHDj@\\\\j@^?@^VHFDDHF`@\\\\d@`@XV?@^\\\\Z\\\\RTHHXZj@r@p@~@RXPVx@lAbA|Aj@x@j@z@~@tAPVrB~CFHzAzBxBbD|CxElAhBdBhC`AvAhAbBHL~AbC`DxElAfBf@|@~A|BLPLPnAlB`BbCHLZb@dB`CRVX^Z`@PVZ`@t@bAf@l@Zb@\\\\b@NTt@dAX^v@jAX`@BBzA|Bn@`Az@nAdA~AzBpDl@`AhAnBn@dApAvBVb@Zf@nAtBp@fA`A|Af@r@PVPVv@hAl@|@bBfCLRxAxBj@|@HJzBhDJNh@x@Xb@fAbBFJXd@HN`A~A@@Vf@HLh@~@\\\\l@pAbCb@z@z@~AdAhBvAlCvAfCl@dAJPpBpDDJh@`Ah@`Ar@rA@B`BxCT`@r@rAzAlCHNp@nAv@vAj@dAp@lAR^\\\\n@n@lAT`@t@rAp@lAVb@nDvGBB`BxCp@lAVf@z@xAd@bA@?Vf@jAvBXh@Tb@`@r@vAjCZh@?@~AvC\\\\l@Xf@p@jAd@z@rCjFx@tAh@~@r@nAfAbBbB|BxAjBnCjDFFz@dAPTv@dA\\\\d@LRt@hA@@p@fAXb@@@^l@rA~B`@z@r@vAdA`ClArCVt@vAvDvAnDvAtDR`@Th@n@rA@DT`@hAvBR^fBdD?@hArBVd@n@jAxAlClAzB^t@lAvBVh@p@lAt@tAd@z@R^JRt@tAR^f@|@lAxBFLvAjC|@~AFJNZl@hABD\\\\l@Vd@R^^r@dAjBVd@^p@Zj@f@`Ax@xAz@zA^r@HNHNJPfAlBx@zAbA~A~@xAv@jArAnBb@r@n@~@j@x@rB`Dh@t@~@tA`@p@h@t@^j@X`@lAdB@B`A|Af@z@JRx@rAr@tA~A`DhAdCpAvCpAtC~AdDj@tA~@tBn@xAj@nAjAjCpArCBBdAvBzB`ETb@pAdCbBzCXd@l@hAt@tAVd@n@hA~@`BhArBbAbBDFl@bAlApBV`@@Br@fA|@vAPVfA~AfC`EtA~BtAdC`@v@vAnC`@x@dA|BP^f@bAxB`Ff@dAtApC\\\\l@p@rAh@bAhAvBNX`@t@\\\\l@R^jAtBt@rAR`@j@dAnBnDvBzDtBxDvBzDvA~B@BlAnBXd@nAnBhAfBDFl@`A^l@zA`Cn@`AvA|BzBrDt@nALPrBbDx@rAHLrBdDh@x@DDrBjDFH`CxDlCfEdAbB^n@l@~@?@bBlCDFLR~@zAbA|Ad@t@j@`AvAxBb@t@NRj@|@z@xABBz@rA^l@NXRX@@R\\\\x@rAp@hAz@zANVfBrC?@hBtCf@v@JPxA~BNTr@jAx@pAxBlDtAzBnCjE^l@BDPVXb@HLNVb@r@BDd@p@HPV^R\\\\PVTVV^x@nAPZlAjB~@tAn@bAn@`A@@p@bAd@r@f@t@j@z@DF\\\\f@\\\\h@NRV`@LTV^V\\\\n@bAn@bAt@lAl@dAR\\\\\\\\n@x@vAp@lAJRNV\\\\j@x@xAp@jAVd@`@t@~@`Bt@nARZh@z@h@~@RXnArB`AzA\\\\l@LRRZbA`BhAfBn@dAHJp@fAt@lAr@hAr@hAh@|@l@~@dA`Bj@~@T\\\\lAnBDF`A|A~@|AHLj@z@Xb@DHRZXd@PXNRJNNVb@r@pArBn@fABBV^r@jAXb@Xd@h@z@zBnDXb@hBvChBxCxAxBr@lAn@bAr@fAp@dAl@`Ap@hAv@lAr@fAd@v@FJXd@DFb@r@^l@^h@HJb@l@`@j@X\\\\DFNTFDNPl@l@XZ^\\\\TRb@`@d@\\\\ZVTNd@\\\\j@Zd@X`@R^RZNb@P`@Nb@N^Jd@L\\\\F\\\\F`@F`@Fl@H\\\\BP@j@Dj@@p@@f@?p@?j@AHANARAPAd@Et@Ip@INCXGr@Mt@Op@Ox@M\\\\GVEVE^GLC`@Il@I`@GtCa@VEVELAjDm@H?fAQrEs@dEo@|Es@|B]zB_@tAU|AUz@ODAjAQ|AWhB]vBa@~Bc@f@KnAW|Ck@nASb@Ib@IdAQb@IhAS^GdAOfAOt@El@EF?hCMhCOz@In@KVChASFArAUjB[TEnCi@rCe@|@OVGXEZEf@K`@Ip@OTERCx@St@GB?fAS|@Qb@IVC`AMr@MdASJCrAUl@Ib@ID?vB[r@KVEVEXExASpAKv@Gh@ExAMd@Cj@E~AK`BMfAKbAIvAOj@Gh@GjAKh@Gf@Gj@IDAb@Ij@Kj@Kp@On@Ml@Mp@M~@MfAOh@Il@KvAWlAWtB]~@St@OJAl@Mv@K`@G`@EXAXCf@Ch@Ax@Ax@ArAEf@CPCZC`BQNCb@G@AbBYjBc@lAW|A_@~A_@LCfAWnA[lA]p@Ud@OzAg@fBm@j@Q`@MRI`A[r@QLEb@K~@OZEZGv@Kp@IFAj@I`@Et@Gn@En@El@EbAGn@Gn@Eh@?X?zAFbAJxAL|BTb@Dj@Hb@Jl@PLDRH`@RXN\\\\Th@^JH\\\\Rb@VHDVJJFTHPFNFXJFBf@P~@\\\\`@NZLAH'},\n",
       "      'start_location': {'lat': 51.531971, 'lng': -0.12663},\n",
       "      'transit_details': {'arrival_stop': {'location': {'lat': 48.8809481,\n",
       "         'lng': 2.3553137},\n",
       "        'name': 'Gare du Nord'},\n",
       "       'arrival_time': {'text': '1:47pm',\n",
       "        'time_zone': 'Europe/Paris',\n",
       "        'value': 1589888820},\n",
       "       'departure_stop': {'location': {'lat': 51.531971, 'lng': -0.12663},\n",
       "        'name': 'St Pancras International'},\n",
       "       'departure_time': {'text': '10:24am',\n",
       "        'time_zone': 'Europe/London',\n",
       "        'value': 1589880240},\n",
       "       'headsign': 'Paris Nord',\n",
       "       'line': {'agencies': [{'name': 'Eurostar',\n",
       "          'phone': '011 44 1233 617575',\n",
       "          'url': 'http://www.eurostar.com/'}],\n",
       "        'color': '#02173e',\n",
       "        'name': 'Paris Nord - St Pancras International',\n",
       "        'short_name': 'Eurostar',\n",
       "        'text_color': '#f0f200',\n",
       "        'vehicle': {'icon': '//maps.gstatic.com/mapfiles/transit/iw2/6/rail2.png',\n",
       "         'local_icon': '//maps.gstatic.com/mapfiles/transit/iw2/6/rail2.png',\n",
       "         'name': 'Train',\n",
       "         'type': 'HEAVY_RAIL'}},\n",
       "       'num_stops': 1},\n",
       "      'travel_mode': 'TRANSIT'}],\n",
       "    'traffic_speed_entry': [],\n",
       "    'via_waypoint': []}],\n",
       "  'overview_polyline': {'points': 'yyoyHlvWuf@tL{IkW{d@gbCgPwgBhLy`EbG{tD|CckCsMaoDmDkoCxJyoAhk@qiCbl@kkBrXocErFihAvNcmCr`@mhCnj@qfAbsAwpC~aBesDlvAa}Cbi@ceCb_AycBdr@io@vkAw\\\\xl@}n@~cAsjEvfAkpGxb@cmF|eAeuBpb@q`@vgA_dAfrAmkAti@{[b`D{v@~oAyjAf}@koBr}AerGbzBczEp_CebH~wFstQps@_dD|T{dD~oA}|BttAct@h~@opAfdBifEjfAmkCpnBsdGjr@g}Ijw@ogKkBmcF{X{}E{XuoFkhAesHiCsiFfb@osDdyBm`J|yKgiXnxAkpFdsKmqe@phColLhWus@dg@e_AnvA_v@lq@jKdmAri@vJptAjOdiAxj@dIlb@sgAv[q~Axh@ei@tg@dj@`\\\\d~@vbAtiAdu@tlA`e@d_Bph@fiF`^`{@eB`uA`U|_Cny@zlAl^`}AxXb`D|l@vj@`y@tBr~@nXxr@ps@z[nJjs@_q@ls@od@brAnw@nxAoGni@owApoAksC|dB}vD~g@gAda@rv@hrBdnB|d@dq@tx@x[jnAfg@n{@v}@hsAhPnpAnC|l@bAdt@eTh{@kQrqAoq@j^ujAvs@gX~kFwKhmCmRr|D~IflBsYpfFc{@~oBt\\\\h|ARfkFsm@~eG}xCjgFolBvhFvGfrAssBxaAyeBpXqiApxAkeBpm@ezChg@wlBd|@i_@dpAcbA~v@ZbpAc_Al`AqjCt{AofF`nAolAze@mjBrf@sxDl\\\\omD~r@knBzTauAjAysCn`@{m@d~@g]nhA}cBnk@udApi@qnCjnB}rDhi@{hCjb@coClu@}~CtlAy}Cly@_lFxj@mf@fd@shAl`@gbBkA_`Dbm@gmAnd@}b@vp@oSx^cxAlNgdBx~AkuCf`Baf@noAtm@faFh`BzqCbqBjoC~fAp_CkYnt@yA`k@vw@r_B`eAnb@zFhVgN~\\\\y`AviAqtArZuv@jq@qj@noAmOtv@sh@f{@kAvj@eg@fw@s{@dl@c`@xiBukDho@wFlwAf^bkA`SfaAsN~fAmOtj@|Vpa@`Sl{@q]zaAlI`sAre@jtCdq@nuBnp@paD`tA~t@}a@|d@ejB`j@sgA~g@_PntDeKvbAgd@hxAub@daDyPxnBgmCfg@lDl_ArdAlwAhwAh[|Sbh@~@jx@a`@vuAop@xfBiO|dCei@hxBomAjsBywBvcB{uCzeAsZjbGx_@deEjwGxpKjfRnwCtjEhiFao@|fBo[zp@~I'},\n",
       "  'summary': '',\n",
       "  'warnings': [],\n",
       "  'waypoint_order': []}]"
      ]
     },
     "execution_count": 20,
     "metadata": {},
     "output_type": "execute_result"
    }
   ],
   "source": [
    "directions_result"
   ]
  }
 ],
 "metadata": {
  "kernelspec": {
   "display_name": "Python 3",
   "language": "python",
   "name": "python3"
  },
  "language_info": {
   "codemirror_mode": {
    "name": "ipython",
    "version": 3
   },
   "file_extension": ".py",
   "mimetype": "text/x-python",
   "name": "python",
   "nbconvert_exporter": "python",
   "pygments_lexer": "ipython3",
   "version": "3.7.4"
  }
 },
 "nbformat": 4,
 "nbformat_minor": 2
}
