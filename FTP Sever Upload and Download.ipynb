{
 "cells": [
  {
   "cell_type": "markdown",
   "metadata": {},
   "source": [
    "# FTP Server\n",
    "\n",
    "One of the main features of FTP server is the ability to store and retrieve files. In this tutorial, you will learn how you can download and upload files in FTP server using Python.\n",
    "\n",
    "We will be using Python's built-in ftplib module, we gonna use a test FTP server for this tutorial, it is called DLPTEST, let's define its information:"
   ]
  },
  {
   "cell_type": "code",
   "execution_count": 1,
   "metadata": {},
   "outputs": [],
   "source": [
    "import ftplib\n",
    "\n",
    "FTP_HOST = \"ftp.dlptest.com\"\n",
    "FTP_USER = \"dlpuser@dlptest.com\"\n",
    "FTP_PASS = \"SzMf7rTE4pCrf9dV286GuNe4N\""
   ]
  },
  {
   "cell_type": "markdown",
   "metadata": {},
   "source": [
    "The password can change from time to time, make sure you visit their website for the correct credentials, connecting to this server:"
   ]
  },
  {
   "cell_type": "code",
   "execution_count": 2,
   "metadata": {},
   "outputs": [],
   "source": [
    "# connect to the FTP server\n",
    "ftp = ftplib.FTP(FTP_HOST, FTP_USER, FTP_PASS)\n",
    "# force UTF-8 encoding\n",
    "ftp.encoding = \"utf-8\""
   ]
  },
  {
   "cell_type": "markdown",
   "metadata": {},
   "source": [
    "## Uploading Files\n",
    "\n",
    "To upload a file, we gonna need to use the ftp.storbinary() method, the below code handles that:"
   ]
  },
  {
   "cell_type": "code",
   "execution_count": 3,
   "metadata": {},
   "outputs": [],
   "source": [
    "# local file name you want to upload\n",
    "filename = \"music.csv\"\n",
    "with open(filename, \"rb\") as file:\n",
    "    # use FTP's STOR command to upload the file\n",
    "    ftp.storbinary(\"STOR music.csv\", file)"
   ]
  },
  {
   "cell_type": "markdown",
   "metadata": {},
   "source": [
    "We opened the file with \"rb\" mode, which means we're reading the local file in binary mode.\n",
    "\n",
    "After that, we used the FTP's STOR command, which stores the file in binary mode, it transfer that file on a new port. Note that the file must exist in your local working directory, otherwise this won't work.\n",
    "\n",
    "This test server will delete the file after 30 minutes, to make sure the file is successfully uploaded, we need to list all files and directories using ftp.dir() method:"
   ]
  },
  {
   "cell_type": "code",
   "execution_count": 4,
   "metadata": {},
   "outputs": [
    {
     "name": "stdout",
     "output_type": "stream",
     "text": [
      "drwxr-xr-x    2 dlptest9   dlptest9        57344 Jun  3 06:49 .\n",
      "drwxr-xr-x    2 dlptest9   dlptest9        57344 Jun  3 06:49 ..\n",
      "-rw-r--r--    1 dlptest9   dlptest9          390 Jun  3 06:30 03-Jun-20-17-0-0.csv\n",
      "-rw-r--r--    1 dlptest9   dlptest9          390 Jun  3 06:45 03-Jun-20-17-15-0.csv\n",
      "-rw-r--r--    1 dlptest9   dlptest9       870400 Jun  3 06:37 1_603281663034123496_17-9ULspeedtest.upt\n",
      "-rw-r--r--    1 dlptest9   dlptest9          958 Jun  3 06:30 BunkerWestProdProxiesResFile_bwbluecoat2_2020-06-03-05-30-01.txt\n",
      "-rw-r--r--    1 dlptest9   dlptest9           79 Jun  3 06:40 EMP_1.csv\n",
      "-rw-r--r--    1 dlptest9   dlptest9          536 Jun  3 06:35 FCW221200HL-1591183978-Jun-03-11-32.txt\n",
      "-rw-r--r--    1 dlptest9   dlptest9          852 Jun  3 06:41 FCW221200HL-1591184338-Jun-03-11-38.txt\n",
      "-rw-r--r--    1 dlptest9   dlptest9          852 Jun  3 06:47 FCW221200HL-1591184698-Jun-03-11-44.txt\n",
      "-rw-r--r--    1 dlptest9   dlptest9     33114864 Jun  3 06:42 SongLists-1.0.jar\n",
      "-rw-r--r--    1 dlptest9   dlptest9            0 Jun  3 06:32 music.csv\n"
     ]
    }
   ],
   "source": [
    "# list current files & directories\n",
    "ftp.dir()"
   ]
  },
  {
   "cell_type": "markdown",
   "metadata": {},
   "source": [
    "## Downloading files\n",
    "\n",
    "Now let's try to download that same file again:"
   ]
  },
  {
   "cell_type": "code",
   "execution_count": 5,
   "metadata": {},
   "outputs": [],
   "source": [
    "# the name of file you want to download from the FTP server\n",
    "filename = 'music.csv'\n",
    "with open(filename, \"wb\") as file:\n",
    "    # use FTP's RETR command to download the file\n",
    "    ftp.retrbinary(\"RETR music.csv\", file.write)"
   ]
  },
  {
   "cell_type": "markdown",
   "metadata": {},
   "source": [
    "This time, we're opening the local file in \"wb\" mode, as we're gonna write the file from the server to the local machine.\n",
    "\n",
    "We're using RETR command, which downloads a copy of a file on the server, we provide the file name we want to download as the first argument to the command, and the server will send a copy of the file to us.\n",
    "\n",
    "ftp.retrbinary() method takes the method to call when storing the file on the local machine as a second argument."
   ]
  },
  {
   "cell_type": "markdown",
   "metadata": {},
   "source": [
    "Finally, you got to quit and close the FTP connection:"
   ]
  },
  {
   "cell_type": "code",
   "execution_count": 6,
   "metadata": {},
   "outputs": [
    {
     "data": {
      "text/plain": [
       "'221-Goodbye. You uploaded 0 and downloaded 0 kbytes.\\n221 Logout.'"
      ]
     },
     "execution_count": 6,
     "metadata": {},
     "output_type": "execute_result"
    }
   ],
   "source": [
    "# quit and close the connection\n",
    "ftp.quit()"
   ]
  }
 ],
 "metadata": {
  "kernelspec": {
   "display_name": "Python 3",
   "language": "python",
   "name": "python3"
  },
  "language_info": {
   "codemirror_mode": {
    "name": "ipython",
    "version": 3
   },
   "file_extension": ".py",
   "mimetype": "text/x-python",
   "name": "python",
   "nbconvert_exporter": "python",
   "pygments_lexer": "ipython3",
   "version": "3.7.4"
  },
  "toc": {
   "base_numbering": 1,
   "nav_menu": {},
   "number_sections": true,
   "sideBar": true,
   "skip_h1_title": false,
   "title_cell": "Table of Contents",
   "title_sidebar": "Contents",
   "toc_cell": false,
   "toc_position": {},
   "toc_section_display": true,
   "toc_window_display": false
  }
 },
 "nbformat": 4,
 "nbformat_minor": 2
}
