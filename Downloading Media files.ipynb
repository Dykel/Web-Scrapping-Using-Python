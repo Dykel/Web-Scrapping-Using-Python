{
 "cells": [
  {
   "cell_type": "markdown",
   "metadata": {},
   "source": [
    "# Downloading Media files"
   ]
  },
  {
   "cell_type": "code",
   "execution_count": 18,
   "metadata": {},
   "outputs": [],
   "source": [
    "import bs4\n",
    "import urllib.request\n",
    "from urllib.request import urlopen \n",
    "from bs4 import BeautifulSoup as soup"
   ]
  },
  {
   "cell_type": "code",
   "execution_count": 27,
   "metadata": {},
   "outputs": [],
   "source": [
    "my_url = 'https://www.imdb.com/list/ls053501318/'\n",
    "#opening up connection, downloading the page\n",
    "imdb = urlopen(my_url)\n",
    "\n",
    "#html parsing\n",
    "bsobj = soup(imdb.read(),'html.parser')\n",
    "\n",
    "#grabs each star\n",
    "containers =  bsobj.findAll('div',{'class':'lister-item mode-detail'})\n",
    "pic = bsobj.findAll('img')\n",
    "\n",
    "\n",
    "for container,img in zip(containers,pic):\n",
    "    name = container.h3.a.text.strip()\n",
    "\n",
    "    image = img.get('src')\n",
    "    full_name = str(name) + \".jpg\"\n",
    "    urllib.request.urlretrieve(image, full_name)"
   ]
  },
  {
   "cell_type": "code",
   "execution_count": 28,
   "metadata": {},
   "outputs": [
    {
     "data": {
      "text/plain": [
       "'C:\\\\Users\\\\Manoj\\\\Desktop\\\\dir'"
      ]
     },
     "execution_count": 28,
     "metadata": {},
     "output_type": "execute_result"
    }
   ],
   "source": [
    "import os\n",
    "os.getcwd()"
   ]
  }
 ],
 "metadata": {
  "kernelspec": {
   "display_name": "Python 3",
   "language": "python",
   "name": "python3"
  },
  "language_info": {
   "codemirror_mode": {
    "name": "ipython",
    "version": 3
   },
   "file_extension": ".py",
   "mimetype": "text/x-python",
   "name": "python",
   "nbconvert_exporter": "python",
   "pygments_lexer": "ipython3",
   "version": "3.7.4"
  }
 },
 "nbformat": 4,
 "nbformat_minor": 2
}
